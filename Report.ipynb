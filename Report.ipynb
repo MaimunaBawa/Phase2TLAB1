{
 "cells": [
  {
   "cell_type": "markdown",
   "metadata": {},
   "source": [
    "**Which insights did you gain from your EDA?** \n",
    "\n",
    "* The most common transaction type is Cash_out. The current fraud flagging mechanism is severely ineffective. Fraudulent transactions make up less than 1% of the data and are found only in Cash_out and Transfer transactions, which occur in roughly equal proportions.\n",
    "\n",
    "* A significant class imbalance exists, with a considerably larger number of non-fraudulent transactions compared to fraudulent ones. This imbalance could negatively impact a model's ability to accurately predict both non-fraudulent and fraudulent transactions\n"
   ]
  },
  {
   "cell_type": "markdown",
   "metadata": {},
   "source": [
    "**How did you determine which columns to drop or keep? If your EDA informed this process, explain which insights you used to determine which columns were not needed.** \n",
    "\n",
    "* Columns removed were based on an assessment of each feature's potential contribution to model accuracy. Columns such as step, isFlaggedFraud, nameOrig, and nameDest were unlikely to enhance model performance. Step represented transaction activity by hour, but due to time constraints and insufficient contextual information, it could not be effectively transformed into a useful feature. NameDest and nameOrig were considered to provide negligible predictive value. This decision was informed by the EDA, which indicated that these features did not exhibit significant correlations or patterns relevant to fraud detection.\n",
    "\n",
    "* Columns such as amount, oldbalanceOrg, newbalanceOrg, oldbalanceDest, and newbalanceDest were retained. The EDA revealed that amount exhibited a skewed distribution, potentially indicating unusual transaction patterns. Furthermore, oldbalanceDest and newbalanceDes' showed a strong positive correlation and a relationship with fraudulent transactions, suggesting they could be informative for the model. oldbalanceOrg and newbalanceOrg, while less directly correlated, were kept as they represent the account's initial state and might contain subtle patterns related to fraudulent activity. The 'isFraud' column, of course, was essential as the target variable for the model.\n"
   ]
  },
  {
   "cell_type": "markdown",
   "metadata": {},
   "source": [
    "**What was your final F1 Score?**\n",
    "* The F1-score achieved was 0.59, indicating a moderate balance between precision and recall, but suggesting room for improvement, particularly in identifying fraudulent transactions. Due to time constraints, I was unable to implement hyperparameter optimization techniques such as grid search or random search.Had these methods been applied, it's likely the model's performance, specifically the F1-score, could have been significantly enhanced."
   ]
  }
 ],
 "metadata": {
  "language_info": {
   "name": "python"
  }
 },
 "nbformat": 4,
 "nbformat_minor": 2
}
