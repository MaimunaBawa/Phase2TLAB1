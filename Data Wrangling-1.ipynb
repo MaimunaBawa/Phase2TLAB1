{
 "cells": [
  {
   "cell_type": "code",
   "execution_count": 1,
   "metadata": {},
   "outputs": [],
   "source": [
    "#import panda package\n",
    "import pandas as pd"
   ]
  },
  {
   "cell_type": "code",
   "execution_count": 2,
   "metadata": {},
   "outputs": [],
   "source": [
    "clean_df=pd.read_csv(\"/Users/sa19/Desktop/Phase2TLAB1/PS_20174392719_1491204439457_log copy.csv\")"
   ]
  },
  {
   "cell_type": "code",
   "execution_count": 3,
   "metadata": {},
   "outputs": [
    {
     "data": {
      "text/plain": [
       "step              0\n",
       "type              0\n",
       "amount            0\n",
       "nameOrig          0\n",
       "oldbalanceOrg     0\n",
       "newbalanceOrig    0\n",
       "nameDest          0\n",
       "oldbalanceDest    0\n",
       "newbalanceDest    0\n",
       "isFraud           0\n",
       "isFlaggedFraud    0\n",
       "dtype: int64"
      ]
     },
     "execution_count": 3,
     "metadata": {},
     "output_type": "execute_result"
    }
   ],
   "source": [
    "#Find and sum all null values within dataset\n",
    "clean_df.isnull().sum()"
   ]
  },
  {
   "cell_type": "code",
   "execution_count": 4,
   "metadata": {},
   "outputs": [
    {
     "data": {
      "text/plain": [
       "0"
      ]
     },
     "execution_count": 4,
     "metadata": {},
     "output_type": "execute_result"
    }
   ],
   "source": [
    "#Find duplicates within dataset\n",
    "clean_df.duplicated().sum()"
   ]
  },
  {
   "cell_type": "code",
   "execution_count": 5,
   "metadata": {},
   "outputs": [],
   "source": [
    "#Drop unwanted columns such as step,nameDest,nameOrig\n",
    "clean_df.drop(columns=[\"step\",\"nameDest\",\"nameOrig\"],inplace=True)"
   ]
  },
  {
   "cell_type": "code",
   "execution_count": 8,
   "metadata": {},
   "outputs": [
    {
     "data": {
      "text/html": [
       "<div>\n",
       "<style scoped>\n",
       "    .dataframe tbody tr th:only-of-type {\n",
       "        vertical-align: middle;\n",
       "    }\n",
       "\n",
       "    .dataframe tbody tr th {\n",
       "        vertical-align: top;\n",
       "    }\n",
       "\n",
       "    .dataframe thead th {\n",
       "        text-align: right;\n",
       "    }\n",
       "</style>\n",
       "<table border=\"1\" class=\"dataframe\">\n",
       "  <thead>\n",
       "    <tr style=\"text-align: right;\">\n",
       "      <th></th>\n",
       "      <th>type</th>\n",
       "      <th>amount</th>\n",
       "      <th>oldbalanceOrg</th>\n",
       "      <th>newbalanceOrig</th>\n",
       "      <th>oldbalanceDest</th>\n",
       "      <th>newbalanceDest</th>\n",
       "      <th>isFraud</th>\n",
       "      <th>isFlaggedFraud</th>\n",
       "    </tr>\n",
       "  </thead>\n",
       "  <tbody>\n",
       "    <tr>\n",
       "      <th>0</th>\n",
       "      <td>PAYMENT</td>\n",
       "      <td>0.000106</td>\n",
       "      <td>170136.00</td>\n",
       "      <td>160296.36</td>\n",
       "      <td>0.00</td>\n",
       "      <td>0.00</td>\n",
       "      <td>0</td>\n",
       "      <td>0</td>\n",
       "    </tr>\n",
       "    <tr>\n",
       "      <th>1</th>\n",
       "      <td>PAYMENT</td>\n",
       "      <td>0.000020</td>\n",
       "      <td>21249.00</td>\n",
       "      <td>19384.72</td>\n",
       "      <td>0.00</td>\n",
       "      <td>0.00</td>\n",
       "      <td>0</td>\n",
       "      <td>0</td>\n",
       "    </tr>\n",
       "    <tr>\n",
       "      <th>2</th>\n",
       "      <td>TRANSFER</td>\n",
       "      <td>0.000002</td>\n",
       "      <td>181.00</td>\n",
       "      <td>0.00</td>\n",
       "      <td>0.00</td>\n",
       "      <td>0.00</td>\n",
       "      <td>1</td>\n",
       "      <td>0</td>\n",
       "    </tr>\n",
       "    <tr>\n",
       "      <th>3</th>\n",
       "      <td>CASH_OUT</td>\n",
       "      <td>0.000002</td>\n",
       "      <td>181.00</td>\n",
       "      <td>0.00</td>\n",
       "      <td>21182.00</td>\n",
       "      <td>0.00</td>\n",
       "      <td>1</td>\n",
       "      <td>0</td>\n",
       "    </tr>\n",
       "    <tr>\n",
       "      <th>4</th>\n",
       "      <td>PAYMENT</td>\n",
       "      <td>0.000126</td>\n",
       "      <td>41554.00</td>\n",
       "      <td>29885.86</td>\n",
       "      <td>0.00</td>\n",
       "      <td>0.00</td>\n",
       "      <td>0</td>\n",
       "      <td>0</td>\n",
       "    </tr>\n",
       "    <tr>\n",
       "      <th>...</th>\n",
       "      <td>...</td>\n",
       "      <td>...</td>\n",
       "      <td>...</td>\n",
       "      <td>...</td>\n",
       "      <td>...</td>\n",
       "      <td>...</td>\n",
       "      <td>...</td>\n",
       "      <td>...</td>\n",
       "    </tr>\n",
       "    <tr>\n",
       "      <th>495</th>\n",
       "      <td>CASH_IN</td>\n",
       "      <td>0.001735</td>\n",
       "      <td>7965270.68</td>\n",
       "      <td>8125617.99</td>\n",
       "      <td>724867.22</td>\n",
       "      <td>1517262.16</td>\n",
       "      <td>0</td>\n",
       "      <td>0</td>\n",
       "    </tr>\n",
       "    <tr>\n",
       "      <th>496</th>\n",
       "      <td>CASH_IN</td>\n",
       "      <td>0.003129</td>\n",
       "      <td>8125617.99</td>\n",
       "      <td>8414890.75</td>\n",
       "      <td>413976.60</td>\n",
       "      <td>31469.78</td>\n",
       "      <td>0</td>\n",
       "      <td>0</td>\n",
       "    </tr>\n",
       "    <tr>\n",
       "      <th>497</th>\n",
       "      <td>CASH_IN</td>\n",
       "      <td>0.000684</td>\n",
       "      <td>8414890.75</td>\n",
       "      <td>8478080.00</td>\n",
       "      <td>101925.00</td>\n",
       "      <td>0.00</td>\n",
       "      <td>0</td>\n",
       "      <td>0</td>\n",
       "    </tr>\n",
       "    <tr>\n",
       "      <th>498</th>\n",
       "      <td>CASH_IN</td>\n",
       "      <td>0.002128</td>\n",
       "      <td>8478080.00</td>\n",
       "      <td>8674805.32</td>\n",
       "      <td>2248012.90</td>\n",
       "      <td>3940085.21</td>\n",
       "      <td>0</td>\n",
       "      <td>0</td>\n",
       "    </tr>\n",
       "    <tr>\n",
       "      <th>499</th>\n",
       "      <td>PAYMENT</td>\n",
       "      <td>0.000064</td>\n",
       "      <td>10252.00</td>\n",
       "      <td>4369.68</td>\n",
       "      <td>0.00</td>\n",
       "      <td>0.00</td>\n",
       "      <td>0</td>\n",
       "      <td>0</td>\n",
       "    </tr>\n",
       "  </tbody>\n",
       "</table>\n",
       "<p>500 rows × 8 columns</p>\n",
       "</div>"
      ],
      "text/plain": [
       "         type    amount  oldbalanceOrg  newbalanceOrig  oldbalanceDest  \\\n",
       "0     PAYMENT  0.000106      170136.00       160296.36            0.00   \n",
       "1     PAYMENT  0.000020       21249.00        19384.72            0.00   \n",
       "2    TRANSFER  0.000002         181.00            0.00            0.00   \n",
       "3    CASH_OUT  0.000002         181.00            0.00        21182.00   \n",
       "4     PAYMENT  0.000126       41554.00        29885.86            0.00   \n",
       "..        ...       ...            ...             ...             ...   \n",
       "495   CASH_IN  0.001735     7965270.68      8125617.99       724867.22   \n",
       "496   CASH_IN  0.003129     8125617.99      8414890.75       413976.60   \n",
       "497   CASH_IN  0.000684     8414890.75      8478080.00       101925.00   \n",
       "498   CASH_IN  0.002128     8478080.00      8674805.32      2248012.90   \n",
       "499   PAYMENT  0.000064       10252.00         4369.68            0.00   \n",
       "\n",
       "     newbalanceDest  isFraud  isFlaggedFraud  \n",
       "0              0.00        0               0  \n",
       "1              0.00        0               0  \n",
       "2              0.00        1               0  \n",
       "3              0.00        1               0  \n",
       "4              0.00        0               0  \n",
       "..              ...      ...             ...  \n",
       "495      1517262.16        0               0  \n",
       "496        31469.78        0               0  \n",
       "497            0.00        0               0  \n",
       "498      3940085.21        0               0  \n",
       "499            0.00        0               0  \n",
       "\n",
       "[500 rows x 8 columns]"
      ]
     },
     "execution_count": 8,
     "metadata": {},
     "output_type": "execute_result"
    }
   ],
   "source": [
    "#Normalize amount column from min to max\n",
    "clean_df[\"amount\"] = (clean_df[\"amount\"] - clean_df[\"amount\"].min()) / (clean_df[\"amount\"].max() - clean_df[\"amount\"].min())  \n",
    "#show first 500 row fo dataset\n",
    "clean_df.head (500)"
   ]
  },
  {
   "cell_type": "code",
   "execution_count": null,
   "metadata": {},
   "outputs": [],
   "source": [
    "#rename columns \n",
    "clean_df.rename()"
   ]
  },
  {
   "cell_type": "code",
   "execution_count": null,
   "metadata": {},
   "outputs": [],
   "source": []
  }
 ],
 "metadata": {
  "kernelspec": {
   "display_name": "base",
   "language": "python",
   "name": "python3"
  },
  "language_info": {
   "codemirror_mode": {
    "name": "ipython",
    "version": 3
   },
   "file_extension": ".py",
   "mimetype": "text/x-python",
   "name": "python",
   "nbconvert_exporter": "python",
   "pygments_lexer": "ipython3",
   "version": "3.12.4"
  }
 },
 "nbformat": 4,
 "nbformat_minor": 2
}
